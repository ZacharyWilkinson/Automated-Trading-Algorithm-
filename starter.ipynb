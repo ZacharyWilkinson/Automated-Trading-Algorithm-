{
 "cells": [
  {
   "cell_type": "code",
   "execution_count": 23,
   "id": "09372436-8314-4137-8df2-e3ca270e7c1a",
   "metadata": {},
   "outputs": [],
   "source": [
    "import os\n",
    "import requests\n",
    "import pandas as pd\n",
    "from dotenv import load_dotenv\n",
    "import alpaca_trade_api as tradeapi\n",
    "import numpy as np\n",
    "import hvplot.pandas\n",
    "import matplotlib.pyplot as plt\n",
    "from sklearn import svm\n",
    "from sklearn.preprocessing import StandardScaler\n",
    "from pandas.tseries.offsets import DateOffset\n",
    "from sklearn.metrics import classification_report\n",
    "%matplotlib inline"
   ]
  },
  {
   "cell_type": "code",
   "execution_count": 24,
   "id": "1aa86ced-0dc6-48df-b281-cc3efc116c46",
   "metadata": {},
   "outputs": [],
   "source": [
    "def load_data():\n",
    "    load_dotenv()\n",
    "    alpaca_api_key = os.getenv(\"ALPACA_API_KEY\")\n",
    "    alpaca_secret_key = os.getenv(\"ALPACA_SECRET_KEY\")\n",
    "    alpaca = tradeapi.REST(\n",
    "        alpaca_api_key,\n",
    "        alpaca_secret_key,\n",
    "        api_version=\"v2\")\n",
    "    end_date = pd.Timestamp(\"2023-04-12\", tz=\"America/New_York\").isoformat()\n",
    "    today = pd.Timestamp(\"2016-09-16\", tz=\"America/New_York\").isoformat()\n",
    "    tickers = [\"SPY\"]\n",
    "    timeframe = \"1Day\"\n",
    "    df_portfolio = alpaca.get_bars(\n",
    "    tickers,\n",
    "    timeframe,\n",
    "    start = today,\n",
    "    end = end_date\n",
    "    ).df\n",
    "    # Only Returns 1 day so need to change that to specified number of days\n",
    "    return df_portfolio"
   ]
  },
  {
   "cell_type": "code",
   "execution_count": 25,
   "id": "be298631-c782-4f78-a8b5-b209cbfad05d",
   "metadata": {},
   "outputs": [],
   "source": [
    "my_df = load_data()"
   ]
  },
  {
   "cell_type": "code",
   "execution_count": 26,
   "id": "a2e0b09a-2f90-459a-bd3a-026c19074048",
   "metadata": {},
   "outputs": [],
   "source": [
    "def trading_algorithm(df):\n",
    "    df = df.loc[:, [\"close\"]]\n",
    "    df[\"Actual Returns\"] = df[\"close\"].pct_change()\n",
    "    # calculate 50-day and 200-day moving averages\n",
    "    df['50-day MA'] = df['close'].rolling(window=50).mean()\n",
    "    df['200-day MA'] = df['close'].rolling(window=200).mean()\n",
    "    temp = signal_df[['close', 'Actual Returns']]\n",
    "    temp2 = signal_df[['50-day MA', '200-day MA']].shift().dropna()\n",
    "    conc_df = pd.concat([temp, temp2], axis =1).dropna()\n",
    "    # generate buy/sell signals based on MA crossovers\n",
    "    df['Signal'] = 0.0\n",
    "    df.loc[df['50-day MA'] > df['200-day MA'], 'Signal'] = 1  # Buy signal\n",
    "    df.loc[df['50-day MA'] < df['200-day MA'], 'Signal'] = -1  # Sell signal\n",
    "    df['Position'] = df['Signal'].diff()\n",
    "    df = df.dropna()\n",
    "    \n",
    "    return df "
   ]
  },
  {
   "cell_type": "code",
   "execution_count": 27,
   "id": "deaddc36-2ce2-4751-84c9-696393b98053",
   "metadata": {},
   "outputs": [],
   "source": [
    "signal_df = trading_algorithm(my_df)"
   ]
  },
  {
   "cell_type": "code",
   "execution_count": 28,
   "id": "48da87a1-8c67-4d60-8c46-6ed177e6c299",
   "metadata": {},
   "outputs": [
    {
     "data": {
      "text/html": [
       "<div>\n",
       "<style scoped>\n",
       "    .dataframe tbody tr th:only-of-type {\n",
       "        vertical-align: middle;\n",
       "    }\n",
       "\n",
       "    .dataframe tbody tr th {\n",
       "        vertical-align: top;\n",
       "    }\n",
       "\n",
       "    .dataframe thead th {\n",
       "        text-align: right;\n",
       "    }\n",
       "</style>\n",
       "<table border=\"1\" class=\"dataframe\">\n",
       "  <thead>\n",
       "    <tr style=\"text-align: right;\">\n",
       "      <th></th>\n",
       "      <th>close</th>\n",
       "      <th>Actual Returns</th>\n",
       "      <th>50-day MA</th>\n",
       "      <th>200-day MA</th>\n",
       "      <th>Position</th>\n",
       "    </tr>\n",
       "    <tr>\n",
       "      <th>timestamp</th>\n",
       "      <th></th>\n",
       "      <th></th>\n",
       "      <th></th>\n",
       "      <th></th>\n",
       "      <th></th>\n",
       "    </tr>\n",
       "  </thead>\n",
       "  <tbody>\n",
       "    <tr>\n",
       "      <th>2017-07-03 04:00:00+00:00</th>\n",
       "      <td>242.32</td>\n",
       "      <td>0.002192</td>\n",
       "      <td>241.095542</td>\n",
       "      <td>229.372905</td>\n",
       "      <td>1.0</td>\n",
       "    </tr>\n",
       "    <tr>\n",
       "      <th>2017-07-05 04:00:00+00:00</th>\n",
       "      <td>242.74</td>\n",
       "      <td>0.001733</td>\n",
       "      <td>241.207142</td>\n",
       "      <td>229.519804</td>\n",
       "      <td>0.0</td>\n",
       "    </tr>\n",
       "    <tr>\n",
       "      <th>2017-07-06 04:00:00+00:00</th>\n",
       "      <td>240.58</td>\n",
       "      <td>-0.008898</td>\n",
       "      <td>241.248342</td>\n",
       "      <td>229.655709</td>\n",
       "      <td>0.0</td>\n",
       "    </tr>\n",
       "    <tr>\n",
       "      <th>2017-07-07 04:00:00+00:00</th>\n",
       "      <td>242.10</td>\n",
       "      <td>0.006318</td>\n",
       "      <td>241.321542</td>\n",
       "      <td>229.798958</td>\n",
       "      <td>0.0</td>\n",
       "    </tr>\n",
       "    <tr>\n",
       "      <th>2017-07-10 04:00:00+00:00</th>\n",
       "      <td>242.35</td>\n",
       "      <td>0.001033</td>\n",
       "      <td>241.396540</td>\n",
       "      <td>229.931808</td>\n",
       "      <td>0.0</td>\n",
       "    </tr>\n",
       "  </tbody>\n",
       "</table>\n",
       "</div>"
      ],
      "text/plain": [
       "                            close  Actual Returns   50-day MA  200-day MA  \\\n",
       "timestamp                                                                   \n",
       "2017-07-03 04:00:00+00:00  242.32        0.002192  241.095542  229.372905   \n",
       "2017-07-05 04:00:00+00:00  242.74        0.001733  241.207142  229.519804   \n",
       "2017-07-06 04:00:00+00:00  240.58       -0.008898  241.248342  229.655709   \n",
       "2017-07-07 04:00:00+00:00  242.10        0.006318  241.321542  229.798958   \n",
       "2017-07-10 04:00:00+00:00  242.35        0.001033  241.396540  229.931808   \n",
       "\n",
       "                           Position  \n",
       "timestamp                            \n",
       "2017-07-03 04:00:00+00:00       1.0  \n",
       "2017-07-05 04:00:00+00:00       0.0  \n",
       "2017-07-06 04:00:00+00:00       0.0  \n",
       "2017-07-07 04:00:00+00:00       0.0  \n",
       "2017-07-10 04:00:00+00:00       0.0  "
      ]
     },
     "metadata": {},
     "output_type": "display_data"
    },
    {
     "data": {
      "text/plain": [
       "timestamp\n",
       "2017-07-03 04:00:00+00:00    1.0\n",
       "2017-07-05 04:00:00+00:00    1.0\n",
       "2017-07-06 04:00:00+00:00    1.0\n",
       "2017-07-07 04:00:00+00:00    1.0\n",
       "2017-07-10 04:00:00+00:00    1.0\n",
       "Name: Signal, dtype: float64"
      ]
     },
     "metadata": {},
     "output_type": "display_data"
    }
   ],
   "source": [
    "X = signal_df.drop(columns='Signal')\n",
    "y = signal_df['Signal']\n",
    "display(X.head())\n",
    "display(y.head())"
   ]
  },
  {
   "cell_type": "code",
   "execution_count": 29,
   "id": "419b21a7-8721-42f1-8294-d841f1ccd366",
   "metadata": {},
   "outputs": [],
   "source": [
    "training_begin = X.index.min()\n",
    "training_end = X.index.min() + DateOffset(years=3)\n",
    "X_train = X.loc[training_begin:training_end]\n",
    "y_train = y.loc[training_begin:training_end]\n",
    "X_test = X.loc[training_end+DateOffset(hours=1):]\n",
    "y_test = y.loc[training_end+DateOffset(hours=1):]\n",
    "    "
   ]
  },
  {
   "cell_type": "code",
   "execution_count": 30,
   "id": "d5993413-205c-42f8-a92a-b000bc5e62a1",
   "metadata": {},
   "outputs": [
    {
     "data": {
      "text/plain": [
       " 1.0    612\n",
       "-1.0    144\n",
       "Name: Signal, dtype: int64"
      ]
     },
     "execution_count": 30,
     "metadata": {},
     "output_type": "execute_result"
    }
   ],
   "source": [
    "y_train.value_counts()"
   ]
  },
  {
   "cell_type": "code",
   "execution_count": 31,
   "id": "8f6fe8d2-5847-40b8-9fbf-50144ef06943",
   "metadata": {},
   "outputs": [],
   "source": [
    "scaler = StandardScaler()\n",
    "x_scaler = scaler.fit(X_train)\n",
    "x_train_scaled = x_scaler.transform(X_train)\n",
    "x_test_scaled = x_scaler.transform(X_test)"
   ]
  },
  {
   "cell_type": "code",
   "execution_count": 32,
   "id": "1bf7bede-9c97-48d3-afb7-d1c8f08b6c8a",
   "metadata": {},
   "outputs": [],
   "source": [
    "svm_model = svm.SVC()\n",
    "svm_model = svm_model.fit(x_train_scaled, y_train)\n",
    "svm_pred = svm_model.predict(x_train_scaled)\n",
    "testing_signal_predictions = svm_model.predict(x_test_scaled)"
   ]
  },
  {
   "cell_type": "code",
   "execution_count": null,
   "id": "3d7325d2-7219-41bc-abb9-4474d0cf4a94",
   "metadata": {},
   "outputs": [],
   "source": []
  }
 ],
 "metadata": {
  "kernelspec": {
   "display_name": "Python 3 (ipykernel)",
   "language": "python",
   "name": "python3"
  },
  "language_info": {
   "codemirror_mode": {
    "name": "ipython",
    "version": 3
   },
   "file_extension": ".py",
   "mimetype": "text/x-python",
   "name": "python",
   "nbconvert_exporter": "python",
   "pygments_lexer": "ipython3",
   "version": "3.10.10"
  }
 },
 "nbformat": 4,
 "nbformat_minor": 5
}
